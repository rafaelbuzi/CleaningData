{
  "nbformat": 4,
  "nbformat_minor": 0,
  "metadata": {
    "colab": {
      "provenance": [],
      "include_colab_link": true
    },
    "kernelspec": {
      "name": "python3",
      "display_name": "Python 3"
    },
    "language_info": {
      "name": "python"
    }
  },
  "cells": [
    {
      "cell_type": "markdown",
      "metadata": {
        "id": "view-in-github",
        "colab_type": "text"
      },
      "source": [
        "<a href=\"https://colab.research.google.com/github/rafaelbuzi/caged/blob/main/litoral_norte_CAGED.ipynb\" target=\"_parent\"><img src=\"https://colab.research.google.com/assets/colab-badge.svg\" alt=\"Open In Colab\"/></a>"
      ]
    },
    {
      "cell_type": "markdown",
      "source": [
        "# **Tratando os dados do CAGED**\n",
        "\n",
        "O Cadastro Geral de Empregados e Desempregados (CAGED) foi criado como registro permanente de admissões e dispensa de empregados, sob o regime da Consolidação das Leis do Trabalho (CLT). É utilizado pelo Programa de Seguro-Desemprego, para conferir os dados referentes aos vínculos trabalhistas, além de outros programas sociais."
      ],
      "metadata": {
        "id": "7ZJN8PLlxVsH"
      }
    },
    {
      "cell_type": "markdown",
      "source": [
        "Os dados referente ao CAGED de Agosto podem ser baixados abaixo:\n",
        "\n",
        "http://pdet.mte.gov.br/images/Novo_CAGED/Ago2022/3-tabelas.xlsx"
      ],
      "metadata": {
        "id": "ef3xOnjT5VzN"
      }
    },
    {
      "cell_type": "markdown",
      "source": [
        "## **0. Import das Bibliotecas e carregamento dos dados**"
      ],
      "metadata": {
        "id": "B06k3hRKzEmM"
      }
    },
    {
      "cell_type": "code",
      "execution_count": 1,
      "metadata": {
        "id": "0xSk92SErpMG",
        "colab": {
          "base_uri": "https://localhost:8080/"
        },
        "outputId": "d3c4e456-da58-4e15-fd49-53911732a66a"
      },
      "outputs": [
        {
          "output_type": "stream",
          "name": "stderr",
          "text": [
            "/usr/local/lib/python3.7/dist-packages/openpyxl/worksheet/header_footer.py:48: UserWarning: Cannot parse header or footer so it will be ignored\n",
            "  warn(\"\"\"Cannot parse header or footer so it will be ignored\"\"\")\n"
          ]
        }
      ],
      "source": [
        "import pandas as pd\n",
        "import numpy as np\n",
        "df = pd.read_excel('3-tabelas.xlsx', \"Tabela 8.1\")"
      ]
    },
    {
      "cell_type": "markdown",
      "source": [
        "Abaixo, temos uma visão do dataframe. Esses dados são disponibilizados por uma planilha de *Excel* que contém inúmeras células mescladas.\n",
        "\n",
        "São **5585 linhas** (todos os municípios do Brasil), e **166 colunas** que contém as admissões, demissões, estoques, saldo (*admissão menos demissão*) e variação relativa para cada mês de Janeiro/2020 até o mês de extração (neste caso, Agosto/2022)."
      ],
      "metadata": {
        "id": "smEWoJVY9kiK"
      }
    },
    {
      "cell_type": "code",
      "source": [
        "df.shape"
      ],
      "metadata": {
        "colab": {
          "base_uri": "https://localhost:8080/"
        },
        "id": "jQHtJ6v-91E0",
        "outputId": "0119e549-163d-4909-dd67-71a5bc98cdfb"
      },
      "execution_count": 3,
      "outputs": [
        {
          "output_type": "execute_result",
          "data": {
            "text/plain": [
              "(5585, 166)"
            ]
          },
          "metadata": {},
          "execution_count": 3
        }
      ]
    },
    {
      "cell_type": "code",
      "source": [
        "df.head()"
      ],
      "metadata": {
        "colab": {
          "base_uri": "https://localhost:8080/",
          "height": 508
        },
        "id": "dnPmWZob89Qb",
        "outputId": "c312e901-0077-4e62-8a66-d6573cc63799"
      },
      "execution_count": 2,
      "outputs": [
        {
          "output_type": "execute_result",
          "data": {
            "text/plain": [
              "   Unnamed: 0                                         Unnamed: 1  \\\n",
              "0         NaN  TABELA 8.1 - EVOLUÇÃO MENSAL DE ESTOQUE, ADMIS...   \n",
              "1         NaN                                                NaN   \n",
              "2         NaN                                                NaN   \n",
              "3         NaN                                               \\nUF   \n",
              "4         NaN                                                NaN   \n",
              "\n",
              "              Unnamed: 2   Unnamed: 3    Unnamed: 4 Unnamed: 5     Unnamed: 6  \\\n",
              "0                    NaN          NaN           NaN        NaN            NaN   \n",
              "1                    NaN          NaN           NaN        NaN            NaN   \n",
              "2                    NaN          NaN           NaN        NaN            NaN   \n",
              "3  \\nCódigo do Município  \\nMunicípio  Janeiro/2020        NaN            NaN   \n",
              "4                    NaN          NaN       Estoque  Admissões  Desligamentos   \n",
              "\n",
              "  Unnamed: 7      Unnamed: 8 Unnamed: 9  ... Unnamed: 156  \\\n",
              "0        NaN             NaN        NaN  ...          NaN   \n",
              "1        NaN             NaN        NaN  ...          NaN   \n",
              "2        NaN             NaN        NaN  ...          NaN   \n",
              "3        NaN  Fevereiro/2020        NaN  ...          NaN   \n",
              "4     Saldos         Estoque  Admissões  ...       Saldos   \n",
              "\n",
              "            Unnamed: 157             Unnamed: 158   Unnamed: 159 Unnamed: 160  \\\n",
              "0                    NaN                      NaN            NaN          NaN   \n",
              "1                    NaN                      NaN            NaN          NaN   \n",
              "2                    NaN                      NaN            NaN          NaN   \n",
              "3                    NaN  Acumulado no Ano (2022)            NaN          NaN   \n",
              "4  Variação Relativa (%)                Admissões  Desligamentos       Saldos   \n",
              "\n",
              "            Unnamed: 161                            Unnamed: 162  \\\n",
              "0                    NaN                                     NaN   \n",
              "1                    NaN                                     NaN   \n",
              "2                    NaN                                     NaN   \n",
              "3                    NaN  Últimos 12 Meses** (Ago/21 a Jul/22)**   \n",
              "4  Variação Relativa (%)                               Admissões   \n",
              "\n",
              "    Unnamed: 163 Unnamed: 164           Unnamed: 165  \n",
              "0            NaN          NaN                    NaN  \n",
              "1            NaN          NaN                    NaN  \n",
              "2            NaN          NaN                    NaN  \n",
              "3            NaN          NaN                    NaN  \n",
              "4  Desligamentos       Saldos  Variação Relativa (%)  \n",
              "\n",
              "[5 rows x 166 columns]"
            ],
            "text/html": [
              "\n",
              "  <div id=\"df-6ecd3211-e9e2-48f5-960e-1c5e11a71108\">\n",
              "    <div class=\"colab-df-container\">\n",
              "      <div>\n",
              "<style scoped>\n",
              "    .dataframe tbody tr th:only-of-type {\n",
              "        vertical-align: middle;\n",
              "    }\n",
              "\n",
              "    .dataframe tbody tr th {\n",
              "        vertical-align: top;\n",
              "    }\n",
              "\n",
              "    .dataframe thead th {\n",
              "        text-align: right;\n",
              "    }\n",
              "</style>\n",
              "<table border=\"1\" class=\"dataframe\">\n",
              "  <thead>\n",
              "    <tr style=\"text-align: right;\">\n",
              "      <th></th>\n",
              "      <th>Unnamed: 0</th>\n",
              "      <th>Unnamed: 1</th>\n",
              "      <th>Unnamed: 2</th>\n",
              "      <th>Unnamed: 3</th>\n",
              "      <th>Unnamed: 4</th>\n",
              "      <th>Unnamed: 5</th>\n",
              "      <th>Unnamed: 6</th>\n",
              "      <th>Unnamed: 7</th>\n",
              "      <th>Unnamed: 8</th>\n",
              "      <th>Unnamed: 9</th>\n",
              "      <th>...</th>\n",
              "      <th>Unnamed: 156</th>\n",
              "      <th>Unnamed: 157</th>\n",
              "      <th>Unnamed: 158</th>\n",
              "      <th>Unnamed: 159</th>\n",
              "      <th>Unnamed: 160</th>\n",
              "      <th>Unnamed: 161</th>\n",
              "      <th>Unnamed: 162</th>\n",
              "      <th>Unnamed: 163</th>\n",
              "      <th>Unnamed: 164</th>\n",
              "      <th>Unnamed: 165</th>\n",
              "    </tr>\n",
              "  </thead>\n",
              "  <tbody>\n",
              "    <tr>\n",
              "      <th>0</th>\n",
              "      <td>NaN</td>\n",
              "      <td>TABELA 8.1 - EVOLUÇÃO MENSAL DE ESTOQUE, ADMIS...</td>\n",
              "      <td>NaN</td>\n",
              "      <td>NaN</td>\n",
              "      <td>NaN</td>\n",
              "      <td>NaN</td>\n",
              "      <td>NaN</td>\n",
              "      <td>NaN</td>\n",
              "      <td>NaN</td>\n",
              "      <td>NaN</td>\n",
              "      <td>...</td>\n",
              "      <td>NaN</td>\n",
              "      <td>NaN</td>\n",
              "      <td>NaN</td>\n",
              "      <td>NaN</td>\n",
              "      <td>NaN</td>\n",
              "      <td>NaN</td>\n",
              "      <td>NaN</td>\n",
              "      <td>NaN</td>\n",
              "      <td>NaN</td>\n",
              "      <td>NaN</td>\n",
              "    </tr>\n",
              "    <tr>\n",
              "      <th>1</th>\n",
              "      <td>NaN</td>\n",
              "      <td>NaN</td>\n",
              "      <td>NaN</td>\n",
              "      <td>NaN</td>\n",
              "      <td>NaN</td>\n",
              "      <td>NaN</td>\n",
              "      <td>NaN</td>\n",
              "      <td>NaN</td>\n",
              "      <td>NaN</td>\n",
              "      <td>NaN</td>\n",
              "      <td>...</td>\n",
              "      <td>NaN</td>\n",
              "      <td>NaN</td>\n",
              "      <td>NaN</td>\n",
              "      <td>NaN</td>\n",
              "      <td>NaN</td>\n",
              "      <td>NaN</td>\n",
              "      <td>NaN</td>\n",
              "      <td>NaN</td>\n",
              "      <td>NaN</td>\n",
              "      <td>NaN</td>\n",
              "    </tr>\n",
              "    <tr>\n",
              "      <th>2</th>\n",
              "      <td>NaN</td>\n",
              "      <td>NaN</td>\n",
              "      <td>NaN</td>\n",
              "      <td>NaN</td>\n",
              "      <td>NaN</td>\n",
              "      <td>NaN</td>\n",
              "      <td>NaN</td>\n",
              "      <td>NaN</td>\n",
              "      <td>NaN</td>\n",
              "      <td>NaN</td>\n",
              "      <td>...</td>\n",
              "      <td>NaN</td>\n",
              "      <td>NaN</td>\n",
              "      <td>NaN</td>\n",
              "      <td>NaN</td>\n",
              "      <td>NaN</td>\n",
              "      <td>NaN</td>\n",
              "      <td>NaN</td>\n",
              "      <td>NaN</td>\n",
              "      <td>NaN</td>\n",
              "      <td>NaN</td>\n",
              "    </tr>\n",
              "    <tr>\n",
              "      <th>3</th>\n",
              "      <td>NaN</td>\n",
              "      <td>\\nUF</td>\n",
              "      <td>\\nCódigo do Município</td>\n",
              "      <td>\\nMunicípio</td>\n",
              "      <td>Janeiro/2020</td>\n",
              "      <td>NaN</td>\n",
              "      <td>NaN</td>\n",
              "      <td>NaN</td>\n",
              "      <td>Fevereiro/2020</td>\n",
              "      <td>NaN</td>\n",
              "      <td>...</td>\n",
              "      <td>NaN</td>\n",
              "      <td>NaN</td>\n",
              "      <td>Acumulado no Ano (2022)</td>\n",
              "      <td>NaN</td>\n",
              "      <td>NaN</td>\n",
              "      <td>NaN</td>\n",
              "      <td>Últimos 12 Meses** (Ago/21 a Jul/22)**</td>\n",
              "      <td>NaN</td>\n",
              "      <td>NaN</td>\n",
              "      <td>NaN</td>\n",
              "    </tr>\n",
              "    <tr>\n",
              "      <th>4</th>\n",
              "      <td>NaN</td>\n",
              "      <td>NaN</td>\n",
              "      <td>NaN</td>\n",
              "      <td>NaN</td>\n",
              "      <td>Estoque</td>\n",
              "      <td>Admissões</td>\n",
              "      <td>Desligamentos</td>\n",
              "      <td>Saldos</td>\n",
              "      <td>Estoque</td>\n",
              "      <td>Admissões</td>\n",
              "      <td>...</td>\n",
              "      <td>Saldos</td>\n",
              "      <td>Variação Relativa (%)</td>\n",
              "      <td>Admissões</td>\n",
              "      <td>Desligamentos</td>\n",
              "      <td>Saldos</td>\n",
              "      <td>Variação Relativa (%)</td>\n",
              "      <td>Admissões</td>\n",
              "      <td>Desligamentos</td>\n",
              "      <td>Saldos</td>\n",
              "      <td>Variação Relativa (%)</td>\n",
              "    </tr>\n",
              "  </tbody>\n",
              "</table>\n",
              "<p>5 rows × 166 columns</p>\n",
              "</div>\n",
              "      <button class=\"colab-df-convert\" onclick=\"convertToInteractive('df-6ecd3211-e9e2-48f5-960e-1c5e11a71108')\"\n",
              "              title=\"Convert this dataframe to an interactive table.\"\n",
              "              style=\"display:none;\">\n",
              "        \n",
              "  <svg xmlns=\"http://www.w3.org/2000/svg\" height=\"24px\"viewBox=\"0 0 24 24\"\n",
              "       width=\"24px\">\n",
              "    <path d=\"M0 0h24v24H0V0z\" fill=\"none\"/>\n",
              "    <path d=\"M18.56 5.44l.94 2.06.94-2.06 2.06-.94-2.06-.94-.94-2.06-.94 2.06-2.06.94zm-11 1L8.5 8.5l.94-2.06 2.06-.94-2.06-.94L8.5 2.5l-.94 2.06-2.06.94zm10 10l.94 2.06.94-2.06 2.06-.94-2.06-.94-.94-2.06-.94 2.06-2.06.94z\"/><path d=\"M17.41 7.96l-1.37-1.37c-.4-.4-.92-.59-1.43-.59-.52 0-1.04.2-1.43.59L10.3 9.45l-7.72 7.72c-.78.78-.78 2.05 0 2.83L4 21.41c.39.39.9.59 1.41.59.51 0 1.02-.2 1.41-.59l7.78-7.78 2.81-2.81c.8-.78.8-2.07 0-2.86zM5.41 20L4 18.59l7.72-7.72 1.47 1.35L5.41 20z\"/>\n",
              "  </svg>\n",
              "      </button>\n",
              "      \n",
              "  <style>\n",
              "    .colab-df-container {\n",
              "      display:flex;\n",
              "      flex-wrap:wrap;\n",
              "      gap: 12px;\n",
              "    }\n",
              "\n",
              "    .colab-df-convert {\n",
              "      background-color: #E8F0FE;\n",
              "      border: none;\n",
              "      border-radius: 50%;\n",
              "      cursor: pointer;\n",
              "      display: none;\n",
              "      fill: #1967D2;\n",
              "      height: 32px;\n",
              "      padding: 0 0 0 0;\n",
              "      width: 32px;\n",
              "    }\n",
              "\n",
              "    .colab-df-convert:hover {\n",
              "      background-color: #E2EBFA;\n",
              "      box-shadow: 0px 1px 2px rgba(60, 64, 67, 0.3), 0px 1px 3px 1px rgba(60, 64, 67, 0.15);\n",
              "      fill: #174EA6;\n",
              "    }\n",
              "\n",
              "    [theme=dark] .colab-df-convert {\n",
              "      background-color: #3B4455;\n",
              "      fill: #D2E3FC;\n",
              "    }\n",
              "\n",
              "    [theme=dark] .colab-df-convert:hover {\n",
              "      background-color: #434B5C;\n",
              "      box-shadow: 0px 1px 3px 1px rgba(0, 0, 0, 0.15);\n",
              "      filter: drop-shadow(0px 1px 2px rgba(0, 0, 0, 0.3));\n",
              "      fill: #FFFFFF;\n",
              "    }\n",
              "  </style>\n",
              "\n",
              "      <script>\n",
              "        const buttonEl =\n",
              "          document.querySelector('#df-6ecd3211-e9e2-48f5-960e-1c5e11a71108 button.colab-df-convert');\n",
              "        buttonEl.style.display =\n",
              "          google.colab.kernel.accessAllowed ? 'block' : 'none';\n",
              "\n",
              "        async function convertToInteractive(key) {\n",
              "          const element = document.querySelector('#df-6ecd3211-e9e2-48f5-960e-1c5e11a71108');\n",
              "          const dataTable =\n",
              "            await google.colab.kernel.invokeFunction('convertToInteractive',\n",
              "                                                     [key], {});\n",
              "          if (!dataTable) return;\n",
              "\n",
              "          const docLinkHtml = 'Like what you see? Visit the ' +\n",
              "            '<a target=\"_blank\" href=https://colab.research.google.com/notebooks/data_table.ipynb>data table notebook</a>'\n",
              "            + ' to learn more about interactive tables.';\n",
              "          element.innerHTML = '';\n",
              "          dataTable['output_type'] = 'display_data';\n",
              "          await google.colab.output.renderOutput(dataTable, element);\n",
              "          const docLink = document.createElement('div');\n",
              "          docLink.innerHTML = docLinkHtml;\n",
              "          element.appendChild(docLink);\n",
              "        }\n",
              "      </script>\n",
              "    </div>\n",
              "  </div>\n",
              "  "
            ]
          },
          "metadata": {},
          "execution_count": 2
        }
      ]
    },
    {
      "cell_type": "markdown",
      "source": [
        "Em seguida, filtraremos apenas os 4 municípios do Litoral Norte.\n",
        "\n",
        "Também criaremos condições especiais (`cond_5` e `cond_6`) para que possamos captar o cabeçalho e os meses."
      ],
      "metadata": {
        "id": "F3cg5wHz-RGY"
      }
    },
    {
      "cell_type": "code",
      "source": [
        "cond_1 =df['Unnamed: 2']==355070 #São Sebastião\n",
        "cond_2 =df['Unnamed: 2']==351050 #Caraguatatuba\n",
        "cond_3 =df['Unnamed: 2']==352040 #Ilhabela\n",
        "cond_4 =df['Unnamed: 2']==355540 #Ubatuba\n",
        "cond_5 = df['Unnamed: 4']=='Janeiro/2020'\n",
        "cond_6 = df['Unnamed: 4']=='Estoque'"
      ],
      "metadata": {
        "id": "cYJV5HTOsBJ8"
      },
      "execution_count": 4,
      "outputs": []
    },
    {
      "cell_type": "code",
      "source": [
        "df_ss = df[cond_1 | cond_2 | cond_3 | cond_4 | cond_5 | cond_6]"
      ],
      "metadata": {
        "id": "OybU8kVfsNCM"
      },
      "execution_count": 5,
      "outputs": []
    },
    {
      "cell_type": "markdown",
      "source": [
        "**Estado atual do Dataframe**\n",
        "\n",
        "Ainda uma bagunça!"
      ],
      "metadata": {
        "id": "VlzmpkDV83aJ"
      }
    },
    {
      "cell_type": "code",
      "source": [
        "df_ss"
      ],
      "metadata": {
        "colab": {
          "base_uri": "https://localhost:8080/",
          "height": 470
        },
        "id": "dE2zZi1I80PQ",
        "outputId": "0eaa9206-a042-474d-85e6-08237d09796f"
      },
      "execution_count": 6,
      "outputs": [
        {
          "output_type": "execute_result",
          "data": {
            "text/plain": [
              "      Unnamed: 0 Unnamed: 1             Unnamed: 2        Unnamed: 3  \\\n",
              "3            NaN       \\nUF  \\nCódigo do Município       \\nMunicípio   \n",
              "4            NaN        NaN                    NaN               NaN   \n",
              "3393         NaN         SP                 351050  Sp-Caraguatatuba   \n",
              "3505         NaN         SP                 352040       Sp-Ilhabela   \n",
              "3839         NaN         SP                 355070  Sp-Sao Sebastiao   \n",
              "3894         NaN         SP                 355540        Sp-Ubatuba   \n",
              "\n",
              "        Unnamed: 4 Unnamed: 5     Unnamed: 6 Unnamed: 7      Unnamed: 8  \\\n",
              "3     Janeiro/2020        NaN            NaN        NaN  Fevereiro/2020   \n",
              "4          Estoque  Admissões  Desligamentos     Saldos         Estoque   \n",
              "3393         21587        728            961       -233           21323   \n",
              "3505          7008        260            303        -43            6926   \n",
              "3839         15498        655            569         86           15675   \n",
              "3894         17874        752            783        -31           17625   \n",
              "\n",
              "     Unnamed: 9  ... Unnamed: 156           Unnamed: 157  \\\n",
              "3           NaN  ...          NaN                    NaN   \n",
              "4     Admissões  ...       Saldos  Variação Relativa (%)   \n",
              "3393        714  ...          -30              -0.130316   \n",
              "3505        271  ...            6               0.078555   \n",
              "3839        686  ...          102               0.554408   \n",
              "3894        595  ...           -1              -0.005592   \n",
              "\n",
              "                 Unnamed: 158   Unnamed: 159 Unnamed: 160  \\\n",
              "3     Acumulado no Ano (2022)            NaN          NaN   \n",
              "4                   Admissões  Desligamentos       Saldos   \n",
              "3393                     7044           7224         -180   \n",
              "3505                     2239           2398         -159   \n",
              "3839                     6571           5113         1458   \n",
              "3894                     5328           5983         -655   \n",
              "\n",
              "               Unnamed: 161                            Unnamed: 162  \\\n",
              "3                       NaN  Últimos 12 Meses** (Ago/21 a Jul/22)**   \n",
              "4     Variação Relativa (%)                               Admissões   \n",
              "3393              -0.776833                                   13261   \n",
              "3505              -2.037678                                    4442   \n",
              "3839               8.555334                                   11704   \n",
              "3894              -3.533474                                   10535   \n",
              "\n",
              "       Unnamed: 163 Unnamed: 164           Unnamed: 165  \n",
              "3               NaN          NaN                    NaN  \n",
              "4     Desligamentos       Saldos  Variação Relativa (%)  \n",
              "3393          11765         1496               6.959758  \n",
              "3505           3887          555               7.829031  \n",
              "3839           8470         3234              21.184331  \n",
              "3894           9831          704               4.098265  \n",
              "\n",
              "[6 rows x 166 columns]"
            ],
            "text/html": [
              "\n",
              "  <div id=\"df-83c6730a-b9e3-448b-9469-98fd174e763a\">\n",
              "    <div class=\"colab-df-container\">\n",
              "      <div>\n",
              "<style scoped>\n",
              "    .dataframe tbody tr th:only-of-type {\n",
              "        vertical-align: middle;\n",
              "    }\n",
              "\n",
              "    .dataframe tbody tr th {\n",
              "        vertical-align: top;\n",
              "    }\n",
              "\n",
              "    .dataframe thead th {\n",
              "        text-align: right;\n",
              "    }\n",
              "</style>\n",
              "<table border=\"1\" class=\"dataframe\">\n",
              "  <thead>\n",
              "    <tr style=\"text-align: right;\">\n",
              "      <th></th>\n",
              "      <th>Unnamed: 0</th>\n",
              "      <th>Unnamed: 1</th>\n",
              "      <th>Unnamed: 2</th>\n",
              "      <th>Unnamed: 3</th>\n",
              "      <th>Unnamed: 4</th>\n",
              "      <th>Unnamed: 5</th>\n",
              "      <th>Unnamed: 6</th>\n",
              "      <th>Unnamed: 7</th>\n",
              "      <th>Unnamed: 8</th>\n",
              "      <th>Unnamed: 9</th>\n",
              "      <th>...</th>\n",
              "      <th>Unnamed: 156</th>\n",
              "      <th>Unnamed: 157</th>\n",
              "      <th>Unnamed: 158</th>\n",
              "      <th>Unnamed: 159</th>\n",
              "      <th>Unnamed: 160</th>\n",
              "      <th>Unnamed: 161</th>\n",
              "      <th>Unnamed: 162</th>\n",
              "      <th>Unnamed: 163</th>\n",
              "      <th>Unnamed: 164</th>\n",
              "      <th>Unnamed: 165</th>\n",
              "    </tr>\n",
              "  </thead>\n",
              "  <tbody>\n",
              "    <tr>\n",
              "      <th>3</th>\n",
              "      <td>NaN</td>\n",
              "      <td>\\nUF</td>\n",
              "      <td>\\nCódigo do Município</td>\n",
              "      <td>\\nMunicípio</td>\n",
              "      <td>Janeiro/2020</td>\n",
              "      <td>NaN</td>\n",
              "      <td>NaN</td>\n",
              "      <td>NaN</td>\n",
              "      <td>Fevereiro/2020</td>\n",
              "      <td>NaN</td>\n",
              "      <td>...</td>\n",
              "      <td>NaN</td>\n",
              "      <td>NaN</td>\n",
              "      <td>Acumulado no Ano (2022)</td>\n",
              "      <td>NaN</td>\n",
              "      <td>NaN</td>\n",
              "      <td>NaN</td>\n",
              "      <td>Últimos 12 Meses** (Ago/21 a Jul/22)**</td>\n",
              "      <td>NaN</td>\n",
              "      <td>NaN</td>\n",
              "      <td>NaN</td>\n",
              "    </tr>\n",
              "    <tr>\n",
              "      <th>4</th>\n",
              "      <td>NaN</td>\n",
              "      <td>NaN</td>\n",
              "      <td>NaN</td>\n",
              "      <td>NaN</td>\n",
              "      <td>Estoque</td>\n",
              "      <td>Admissões</td>\n",
              "      <td>Desligamentos</td>\n",
              "      <td>Saldos</td>\n",
              "      <td>Estoque</td>\n",
              "      <td>Admissões</td>\n",
              "      <td>...</td>\n",
              "      <td>Saldos</td>\n",
              "      <td>Variação Relativa (%)</td>\n",
              "      <td>Admissões</td>\n",
              "      <td>Desligamentos</td>\n",
              "      <td>Saldos</td>\n",
              "      <td>Variação Relativa (%)</td>\n",
              "      <td>Admissões</td>\n",
              "      <td>Desligamentos</td>\n",
              "      <td>Saldos</td>\n",
              "      <td>Variação Relativa (%)</td>\n",
              "    </tr>\n",
              "    <tr>\n",
              "      <th>3393</th>\n",
              "      <td>NaN</td>\n",
              "      <td>SP</td>\n",
              "      <td>351050</td>\n",
              "      <td>Sp-Caraguatatuba</td>\n",
              "      <td>21587</td>\n",
              "      <td>728</td>\n",
              "      <td>961</td>\n",
              "      <td>-233</td>\n",
              "      <td>21323</td>\n",
              "      <td>714</td>\n",
              "      <td>...</td>\n",
              "      <td>-30</td>\n",
              "      <td>-0.130316</td>\n",
              "      <td>7044</td>\n",
              "      <td>7224</td>\n",
              "      <td>-180</td>\n",
              "      <td>-0.776833</td>\n",
              "      <td>13261</td>\n",
              "      <td>11765</td>\n",
              "      <td>1496</td>\n",
              "      <td>6.959758</td>\n",
              "    </tr>\n",
              "    <tr>\n",
              "      <th>3505</th>\n",
              "      <td>NaN</td>\n",
              "      <td>SP</td>\n",
              "      <td>352040</td>\n",
              "      <td>Sp-Ilhabela</td>\n",
              "      <td>7008</td>\n",
              "      <td>260</td>\n",
              "      <td>303</td>\n",
              "      <td>-43</td>\n",
              "      <td>6926</td>\n",
              "      <td>271</td>\n",
              "      <td>...</td>\n",
              "      <td>6</td>\n",
              "      <td>0.078555</td>\n",
              "      <td>2239</td>\n",
              "      <td>2398</td>\n",
              "      <td>-159</td>\n",
              "      <td>-2.037678</td>\n",
              "      <td>4442</td>\n",
              "      <td>3887</td>\n",
              "      <td>555</td>\n",
              "      <td>7.829031</td>\n",
              "    </tr>\n",
              "    <tr>\n",
              "      <th>3839</th>\n",
              "      <td>NaN</td>\n",
              "      <td>SP</td>\n",
              "      <td>355070</td>\n",
              "      <td>Sp-Sao Sebastiao</td>\n",
              "      <td>15498</td>\n",
              "      <td>655</td>\n",
              "      <td>569</td>\n",
              "      <td>86</td>\n",
              "      <td>15675</td>\n",
              "      <td>686</td>\n",
              "      <td>...</td>\n",
              "      <td>102</td>\n",
              "      <td>0.554408</td>\n",
              "      <td>6571</td>\n",
              "      <td>5113</td>\n",
              "      <td>1458</td>\n",
              "      <td>8.555334</td>\n",
              "      <td>11704</td>\n",
              "      <td>8470</td>\n",
              "      <td>3234</td>\n",
              "      <td>21.184331</td>\n",
              "    </tr>\n",
              "    <tr>\n",
              "      <th>3894</th>\n",
              "      <td>NaN</td>\n",
              "      <td>SP</td>\n",
              "      <td>355540</td>\n",
              "      <td>Sp-Ubatuba</td>\n",
              "      <td>17874</td>\n",
              "      <td>752</td>\n",
              "      <td>783</td>\n",
              "      <td>-31</td>\n",
              "      <td>17625</td>\n",
              "      <td>595</td>\n",
              "      <td>...</td>\n",
              "      <td>-1</td>\n",
              "      <td>-0.005592</td>\n",
              "      <td>5328</td>\n",
              "      <td>5983</td>\n",
              "      <td>-655</td>\n",
              "      <td>-3.533474</td>\n",
              "      <td>10535</td>\n",
              "      <td>9831</td>\n",
              "      <td>704</td>\n",
              "      <td>4.098265</td>\n",
              "    </tr>\n",
              "  </tbody>\n",
              "</table>\n",
              "<p>6 rows × 166 columns</p>\n",
              "</div>\n",
              "      <button class=\"colab-df-convert\" onclick=\"convertToInteractive('df-83c6730a-b9e3-448b-9469-98fd174e763a')\"\n",
              "              title=\"Convert this dataframe to an interactive table.\"\n",
              "              style=\"display:none;\">\n",
              "        \n",
              "  <svg xmlns=\"http://www.w3.org/2000/svg\" height=\"24px\"viewBox=\"0 0 24 24\"\n",
              "       width=\"24px\">\n",
              "    <path d=\"M0 0h24v24H0V0z\" fill=\"none\"/>\n",
              "    <path d=\"M18.56 5.44l.94 2.06.94-2.06 2.06-.94-2.06-.94-.94-2.06-.94 2.06-2.06.94zm-11 1L8.5 8.5l.94-2.06 2.06-.94-2.06-.94L8.5 2.5l-.94 2.06-2.06.94zm10 10l.94 2.06.94-2.06 2.06-.94-2.06-.94-.94-2.06-.94 2.06-2.06.94z\"/><path d=\"M17.41 7.96l-1.37-1.37c-.4-.4-.92-.59-1.43-.59-.52 0-1.04.2-1.43.59L10.3 9.45l-7.72 7.72c-.78.78-.78 2.05 0 2.83L4 21.41c.39.39.9.59 1.41.59.51 0 1.02-.2 1.41-.59l7.78-7.78 2.81-2.81c.8-.78.8-2.07 0-2.86zM5.41 20L4 18.59l7.72-7.72 1.47 1.35L5.41 20z\"/>\n",
              "  </svg>\n",
              "      </button>\n",
              "      \n",
              "  <style>\n",
              "    .colab-df-container {\n",
              "      display:flex;\n",
              "      flex-wrap:wrap;\n",
              "      gap: 12px;\n",
              "    }\n",
              "\n",
              "    .colab-df-convert {\n",
              "      background-color: #E8F0FE;\n",
              "      border: none;\n",
              "      border-radius: 50%;\n",
              "      cursor: pointer;\n",
              "      display: none;\n",
              "      fill: #1967D2;\n",
              "      height: 32px;\n",
              "      padding: 0 0 0 0;\n",
              "      width: 32px;\n",
              "    }\n",
              "\n",
              "    .colab-df-convert:hover {\n",
              "      background-color: #E2EBFA;\n",
              "      box-shadow: 0px 1px 2px rgba(60, 64, 67, 0.3), 0px 1px 3px 1px rgba(60, 64, 67, 0.15);\n",
              "      fill: #174EA6;\n",
              "    }\n",
              "\n",
              "    [theme=dark] .colab-df-convert {\n",
              "      background-color: #3B4455;\n",
              "      fill: #D2E3FC;\n",
              "    }\n",
              "\n",
              "    [theme=dark] .colab-df-convert:hover {\n",
              "      background-color: #434B5C;\n",
              "      box-shadow: 0px 1px 3px 1px rgba(0, 0, 0, 0.15);\n",
              "      filter: drop-shadow(0px 1px 2px rgba(0, 0, 0, 0.3));\n",
              "      fill: #FFFFFF;\n",
              "    }\n",
              "  </style>\n",
              "\n",
              "      <script>\n",
              "        const buttonEl =\n",
              "          document.querySelector('#df-83c6730a-b9e3-448b-9469-98fd174e763a button.colab-df-convert');\n",
              "        buttonEl.style.display =\n",
              "          google.colab.kernel.accessAllowed ? 'block' : 'none';\n",
              "\n",
              "        async function convertToInteractive(key) {\n",
              "          const element = document.querySelector('#df-83c6730a-b9e3-448b-9469-98fd174e763a');\n",
              "          const dataTable =\n",
              "            await google.colab.kernel.invokeFunction('convertToInteractive',\n",
              "                                                     [key], {});\n",
              "          if (!dataTable) return;\n",
              "\n",
              "          const docLinkHtml = 'Like what you see? Visit the ' +\n",
              "            '<a target=\"_blank\" href=https://colab.research.google.com/notebooks/data_table.ipynb>data table notebook</a>'\n",
              "            + ' to learn more about interactive tables.';\n",
              "          element.innerHTML = '';\n",
              "          dataTable['output_type'] = 'display_data';\n",
              "          await google.colab.output.renderOutput(dataTable, element);\n",
              "          const docLink = document.createElement('div');\n",
              "          docLink.innerHTML = docLinkHtml;\n",
              "          element.appendChild(docLink);\n",
              "        }\n",
              "      </script>\n",
              "    </div>\n",
              "  </div>\n",
              "  "
            ]
          },
          "metadata": {},
          "execution_count": 6
        }
      ]
    },
    {
      "cell_type": "markdown",
      "source": [
        "## **1. Ajustes**\n",
        "\n",
        "Preenchendo os valores horizontalmente: *horizontal forward fill (axis = 1*)\n",
        "\n",
        "Cabe ressaltar que ainda assim, haverá valores vazios."
      ],
      "metadata": {
        "id": "0aRSOz_6xIhs"
      }
    },
    {
      "cell_type": "code",
      "source": [
        "df_ss = df_ss.ffill(axis=1)"
      ],
      "metadata": {
        "id": "VC810KlosWoc"
      },
      "execution_count": 7,
      "outputs": []
    },
    {
      "cell_type": "markdown",
      "source": [
        "**1.1 Criando o cabeçalho a partir da agregação entre primeira e segunda linha**"
      ],
      "metadata": {
        "id": "pWW4PCLlxUbj"
      }
    },
    {
      "cell_type": "code",
      "source": [
        "df_ss.columns = (df_ss.iloc[1] + '_' + df_ss.iloc[0])"
      ],
      "metadata": {
        "id": "IOegAu2FUYtQ"
      },
      "execution_count": 8,
      "outputs": []
    },
    {
      "cell_type": "markdown",
      "source": [
        "**1.2 Removendo os valores vazios**\n",
        "\n",
        "Observação: o parâmetro `how = all` garante a remoção apenas das colunas que possuam valores vazios **em todos os seus registros**.\n",
        "\n",
        "\n"
      ],
      "metadata": {
        "id": "_76oe0QQyLCz"
      }
    },
    {
      "cell_type": "code",
      "source": [
        "df_ss = df_ss.dropna(axis=1, how='all')"
      ],
      "metadata": {
        "id": "pSw7NL4gwwsO"
      },
      "execution_count": 9,
      "outputs": []
    },
    {
      "cell_type": "markdown",
      "source": [
        "**1.3 Em seguida, iremos utilizar os valores a partir da 2ª linha e 2ª coluna**"
      ],
      "metadata": {
        "id": "QXpJwrmJyw5b"
      }
    },
    {
      "cell_type": "code",
      "source": [
        "df_ss = df_ss.iloc[2:, 2:]"
      ],
      "metadata": {
        "id": "z43DLvuJ1s51"
      },
      "execution_count": 10,
      "outputs": []
    },
    {
      "cell_type": "markdown",
      "source": [
        "**1.4 Também renomearemos a primeira coluna a fim de se retirar o `NaN` como nome**"
      ],
      "metadata": {
        "id": "bdOzARpI0cld"
      }
    },
    {
      "cell_type": "code",
      "source": [
        "df_ss.rename(columns={df_ss.columns[0]: 'cidade'}, inplace=True)"
      ],
      "metadata": {
        "id": "YD6S_5DdU2Iw"
      },
      "execution_count": 11,
      "outputs": []
    },
    {
      "cell_type": "markdown",
      "source": [
        "**1.5 Unpivot de todas as colunas (transformar colunas em linhas) com exceção da coluna `cidade`.**\n",
        "\n",
        "Os dados estão em formato de banco de dados colunar, ou seja, os registros estão armazenados nas colunas e não nas linhas. \n",
        "\n",
        "Os dados colunares não são ideais quando se é necessário visualizar múltiplos campos de cada linha. As bases de dados tradicionais de linhas tendem a ser melhores para *queries* que procuram apenas valores específicos do usuário. Adicionalmente, dados colunares tendem a demorar mais tempo para registrar novos dados (na maioria dos casos)."
      ],
      "metadata": {
        "id": "OQynRvAO0s4E"
      }
    },
    {
      "cell_type": "code",
      "source": [
        "df_ss = pd.melt(df_ss, id_vars=['cidade'])"
      ],
      "metadata": {
        "id": "sqQhAVRY2PnR"
      },
      "execution_count": 12,
      "outputs": []
    },
    {
      "cell_type": "markdown",
      "source": [
        "**1.6 Desmembramento das colunas que estavam agregadas e junção no *DataFrame*** "
      ],
      "metadata": {
        "id": "J2NLKtyu1DhI"
      }
    },
    {
      "cell_type": "code",
      "source": [
        "new_cols = df_ss['variable'].str.split('_', expand=True)\n",
        "\n",
        "df_ss = pd.concat([df_ss, new_cols], axis=1)"
      ],
      "metadata": {
        "id": "bkz6qsQk3pcW"
      },
      "execution_count": 13,
      "outputs": []
    },
    {
      "cell_type": "markdown",
      "source": [
        "**1.7 Remoção da coluna `variable` e alteração dos nomes das colunas**"
      ],
      "metadata": {
        "id": "vm3ED5fg1WBA"
      }
    },
    {
      "cell_type": "code",
      "source": [
        "df_ss.drop(columns=['variable'], inplace=True)\n",
        "df_ss.columns = ['cidade', 'qtde', 'tipo', 'data']"
      ],
      "metadata": {
        "id": "tY8zoPpPVomw"
      },
      "execution_count": 14,
      "outputs": []
    },
    {
      "cell_type": "markdown",
      "source": [
        "**1.8 Filtrando o *DataFrame* para remoção de valores não desejados**"
      ],
      "metadata": {
        "id": "QP4ruYMg1hBQ"
      }
    },
    {
      "cell_type": "code",
      "source": [
        "df_ss = df_ss[df_ss[\"tipo\"].str.contains(\"Vari\") == False]\n",
        "df_ss = df_ss[df_ss[\"data\"].str.contains(\"Últimos\") == False]\n",
        "df_ss = df_ss[df_ss[\"data\"].str.contains(\"Acumulado\") == False]"
      ],
      "metadata": {
        "id": "1FceoJep4pl2"
      },
      "execution_count": 15,
      "outputs": []
    },
    {
      "cell_type": "markdown",
      "source": [
        "**1.9 Criação das colunas `ano` e `mês`**"
      ],
      "metadata": {
        "id": "UKeBA-6R1qX4"
      }
    },
    {
      "cell_type": "code",
      "source": [
        "df_ss['ano'] = df_ss.data.str.extract('/(.*)')\n",
        "df_ss['mês'] = df_ss['data'].str.split('/').str[0]"
      ],
      "metadata": {
        "id": "uSO0i4IF5KWW"
      },
      "execution_count": 16,
      "outputs": []
    },
    {
      "cell_type": "markdown",
      "source": [
        "**1.10 Criação de colunas de datas baseadas nas colunas `ano` e `mês`.**"
      ],
      "metadata": {
        "id": "VaVQwukJ1y5X"
      }
    },
    {
      "cell_type": "code",
      "source": [
        "df_ss['data_completa'] = np.where(df_ss.mês=='Janeiro', '01/01/' + df_ss['ano'], \n",
        "                      np.where(df_ss.mês=='Fevereiro', '01/02/' + df_ss['ano'],\n",
        "                      np.where(df_ss.mês=='Março', '01/03/' + df_ss['ano'],\n",
        "                      np.where(df_ss.mês=='Abril', '01/04/' + df_ss['ano'],\n",
        "                      np.where(df_ss.mês=='Maio', '01/05/' + df_ss['ano'],\n",
        "                      np.where(df_ss.mês=='Junho', '01/06/' + df_ss['ano'],\n",
        "                      np.where(df_ss.mês=='Julho', '01/07/' + df_ss['ano'],\n",
        "                      np.where(df_ss.mês=='Agosto', '01/08/' + df_ss['ano'],\n",
        "                      np.where(df_ss.mês=='Setembro', '01/09/' + df_ss['ano'],\n",
        "                      np.where(df_ss.mês=='Outubro', '01/10/' + df_ss['ano'],\n",
        "                      np.where(df_ss.mês=='Novembro', '01/11/' + df_ss['ano'],\n",
        "                     np.where(df_ss.mês=='Dezembro', '01/12/' + df_ss['ano'],'a'))))))))))))\n",
        "\n",
        "                     "
      ],
      "metadata": {
        "id": "Qe3dKDHAQD8X"
      },
      "execution_count": 17,
      "outputs": []
    },
    {
      "cell_type": "markdown",
      "source": [
        "**1.11 Remoção do prefixo \"Sp\" na coluna `cidade`**"
      ],
      "metadata": {
        "id": "4TEG7RIy2NfO"
      }
    },
    {
      "cell_type": "code",
      "source": [
        "df_ss['cidade'] = df_ss['cidade'].str.replace('Sp-', '', regex=True)"
      ],
      "metadata": {
        "id": "M3pxA7NNQcXX"
      },
      "execution_count": 18,
      "outputs": []
    },
    {
      "cell_type": "markdown",
      "source": [
        "**1.12 Remoção de colunas não utilizadas**"
      ],
      "metadata": {
        "id": "jNqTJ--i2Yh6"
      }
    },
    {
      "cell_type": "code",
      "source": [
        "df_ss = df_ss.drop(columns=['data', 'ano', 'mês'])"
      ],
      "metadata": {
        "id": "BhdMt-ADXiCN"
      },
      "execution_count": 19,
      "outputs": []
    },
    {
      "cell_type": "markdown",
      "source": [
        "**1.13 Ajuste da coluna `tipo`**"
      ],
      "metadata": {
        "id": "SosY9m752dlm"
      }
    },
    {
      "cell_type": "code",
      "source": [
        "df_ss['tipo'] = np.where(df_ss[\"tipo\"].str.contains(\"referência\") == True, 'Estoque', df_ss['tipo'])"
      ],
      "metadata": {
        "id": "l4pRG1-uZIpr"
      },
      "execution_count": 20,
      "outputs": []
    },
    {
      "cell_type": "markdown",
      "source": [
        "**1.14 Criação da Pivot Table**"
      ],
      "metadata": {
        "id": "CwqFjjIH2lZO"
      }
    },
    {
      "cell_type": "code",
      "source": [
        "df_final = pd.pivot_table(df_ss, values='qtde', index=['cidade','data_completa'], columns=['tipo']).reset_index()"
      ],
      "metadata": {
        "id": "SM4z6ZnqYEVt"
      },
      "execution_count": 21,
      "outputs": []
    },
    {
      "cell_type": "markdown",
      "source": [
        "**1.15 Criação de *linhas* contendo o nome de cidade Litoral Norte**\n",
        "\n",
        "Para realizar tal operação, nós iremos somar as admissões, desligamentos, estoques e saldo das cidades de Caraguatatuba, Ilhabela e Ubatuba.\n",
        "\n",
        "Iremos realizar um agrupamento inicial, e, a partir deste, juntaremos esse novo *DataFrame* que será criado (df_litoral_norte) com o nosso *DataFrame* anterior, do *passo 1.15*."
      ],
      "metadata": {
        "id": "qwPfyY9b22LH"
      }
    },
    {
      "cell_type": "code",
      "source": [
        "cond_a = df_final.cidade=='Caraguatatuba'\n",
        "cond_b = df_final.cidade=='Ilhabela'\n",
        "cond_c = df_final.cidade=='Ubatuba'\n",
        "\n",
        "df_litoral_norte = df_final[cond_a | cond_b | cond_c].groupby(['cidade', 'data_completa'])[['Admissões', 'Desligamentos', 'Estoque', 'Saldos' ]].sum()\n",
        "df_litoral_norte.reset_index(inplace=True)\n",
        "df_litoral_norte['cidade'] = 'Litoral Norte'\n",
        "df_litoral_norte.head(3)"
      ],
      "metadata": {
        "colab": {
          "base_uri": "https://localhost:8080/",
          "height": 143
        },
        "id": "VEKgnngNaO1m",
        "outputId": "e6fb4c2d-b05f-4ca5-9072-00d45fedca1c"
      },
      "execution_count": 22,
      "outputs": [
        {
          "output_type": "execute_result",
          "data": {
            "text/plain": [
              "tipo         cidade data_completa  Admissões  Desligamentos  Estoque  Saldos\n",
              "0     Litoral Norte    01/01/2020      728.0          961.0  21587.0  -233.0\n",
              "1     Litoral Norte    01/01/2021      782.0         1091.0  21272.0  -309.0\n",
              "2     Litoral Norte    01/01/2022      954.0         1132.0  22993.0  -178.0"
            ],
            "text/html": [
              "\n",
              "  <div id=\"df-7c1f3b16-30fa-48be-a5e1-55b0230334ad\">\n",
              "    <div class=\"colab-df-container\">\n",
              "      <div>\n",
              "<style scoped>\n",
              "    .dataframe tbody tr th:only-of-type {\n",
              "        vertical-align: middle;\n",
              "    }\n",
              "\n",
              "    .dataframe tbody tr th {\n",
              "        vertical-align: top;\n",
              "    }\n",
              "\n",
              "    .dataframe thead th {\n",
              "        text-align: right;\n",
              "    }\n",
              "</style>\n",
              "<table border=\"1\" class=\"dataframe\">\n",
              "  <thead>\n",
              "    <tr style=\"text-align: right;\">\n",
              "      <th>tipo</th>\n",
              "      <th>cidade</th>\n",
              "      <th>data_completa</th>\n",
              "      <th>Admissões</th>\n",
              "      <th>Desligamentos</th>\n",
              "      <th>Estoque</th>\n",
              "      <th>Saldos</th>\n",
              "    </tr>\n",
              "  </thead>\n",
              "  <tbody>\n",
              "    <tr>\n",
              "      <th>0</th>\n",
              "      <td>Litoral Norte</td>\n",
              "      <td>01/01/2020</td>\n",
              "      <td>728.0</td>\n",
              "      <td>961.0</td>\n",
              "      <td>21587.0</td>\n",
              "      <td>-233.0</td>\n",
              "    </tr>\n",
              "    <tr>\n",
              "      <th>1</th>\n",
              "      <td>Litoral Norte</td>\n",
              "      <td>01/01/2021</td>\n",
              "      <td>782.0</td>\n",
              "      <td>1091.0</td>\n",
              "      <td>21272.0</td>\n",
              "      <td>-309.0</td>\n",
              "    </tr>\n",
              "    <tr>\n",
              "      <th>2</th>\n",
              "      <td>Litoral Norte</td>\n",
              "      <td>01/01/2022</td>\n",
              "      <td>954.0</td>\n",
              "      <td>1132.0</td>\n",
              "      <td>22993.0</td>\n",
              "      <td>-178.0</td>\n",
              "    </tr>\n",
              "  </tbody>\n",
              "</table>\n",
              "</div>\n",
              "      <button class=\"colab-df-convert\" onclick=\"convertToInteractive('df-7c1f3b16-30fa-48be-a5e1-55b0230334ad')\"\n",
              "              title=\"Convert this dataframe to an interactive table.\"\n",
              "              style=\"display:none;\">\n",
              "        \n",
              "  <svg xmlns=\"http://www.w3.org/2000/svg\" height=\"24px\"viewBox=\"0 0 24 24\"\n",
              "       width=\"24px\">\n",
              "    <path d=\"M0 0h24v24H0V0z\" fill=\"none\"/>\n",
              "    <path d=\"M18.56 5.44l.94 2.06.94-2.06 2.06-.94-2.06-.94-.94-2.06-.94 2.06-2.06.94zm-11 1L8.5 8.5l.94-2.06 2.06-.94-2.06-.94L8.5 2.5l-.94 2.06-2.06.94zm10 10l.94 2.06.94-2.06 2.06-.94-2.06-.94-.94-2.06-.94 2.06-2.06.94z\"/><path d=\"M17.41 7.96l-1.37-1.37c-.4-.4-.92-.59-1.43-.59-.52 0-1.04.2-1.43.59L10.3 9.45l-7.72 7.72c-.78.78-.78 2.05 0 2.83L4 21.41c.39.39.9.59 1.41.59.51 0 1.02-.2 1.41-.59l7.78-7.78 2.81-2.81c.8-.78.8-2.07 0-2.86zM5.41 20L4 18.59l7.72-7.72 1.47 1.35L5.41 20z\"/>\n",
              "  </svg>\n",
              "      </button>\n",
              "      \n",
              "  <style>\n",
              "    .colab-df-container {\n",
              "      display:flex;\n",
              "      flex-wrap:wrap;\n",
              "      gap: 12px;\n",
              "    }\n",
              "\n",
              "    .colab-df-convert {\n",
              "      background-color: #E8F0FE;\n",
              "      border: none;\n",
              "      border-radius: 50%;\n",
              "      cursor: pointer;\n",
              "      display: none;\n",
              "      fill: #1967D2;\n",
              "      height: 32px;\n",
              "      padding: 0 0 0 0;\n",
              "      width: 32px;\n",
              "    }\n",
              "\n",
              "    .colab-df-convert:hover {\n",
              "      background-color: #E2EBFA;\n",
              "      box-shadow: 0px 1px 2px rgba(60, 64, 67, 0.3), 0px 1px 3px 1px rgba(60, 64, 67, 0.15);\n",
              "      fill: #174EA6;\n",
              "    }\n",
              "\n",
              "    [theme=dark] .colab-df-convert {\n",
              "      background-color: #3B4455;\n",
              "      fill: #D2E3FC;\n",
              "    }\n",
              "\n",
              "    [theme=dark] .colab-df-convert:hover {\n",
              "      background-color: #434B5C;\n",
              "      box-shadow: 0px 1px 3px 1px rgba(0, 0, 0, 0.15);\n",
              "      filter: drop-shadow(0px 1px 2px rgba(0, 0, 0, 0.3));\n",
              "      fill: #FFFFFF;\n",
              "    }\n",
              "  </style>\n",
              "\n",
              "      <script>\n",
              "        const buttonEl =\n",
              "          document.querySelector('#df-7c1f3b16-30fa-48be-a5e1-55b0230334ad button.colab-df-convert');\n",
              "        buttonEl.style.display =\n",
              "          google.colab.kernel.accessAllowed ? 'block' : 'none';\n",
              "\n",
              "        async function convertToInteractive(key) {\n",
              "          const element = document.querySelector('#df-7c1f3b16-30fa-48be-a5e1-55b0230334ad');\n",
              "          const dataTable =\n",
              "            await google.colab.kernel.invokeFunction('convertToInteractive',\n",
              "                                                     [key], {});\n",
              "          if (!dataTable) return;\n",
              "\n",
              "          const docLinkHtml = 'Like what you see? Visit the ' +\n",
              "            '<a target=\"_blank\" href=https://colab.research.google.com/notebooks/data_table.ipynb>data table notebook</a>'\n",
              "            + ' to learn more about interactive tables.';\n",
              "          element.innerHTML = '';\n",
              "          dataTable['output_type'] = 'display_data';\n",
              "          await google.colab.output.renderOutput(dataTable, element);\n",
              "          const docLink = document.createElement('div');\n",
              "          docLink.innerHTML = docLinkHtml;\n",
              "          element.appendChild(docLink);\n",
              "        }\n",
              "      </script>\n",
              "    </div>\n",
              "  </div>\n",
              "  "
            ]
          },
          "metadata": {},
          "execution_count": 22
        }
      ]
    },
    {
      "cell_type": "markdown",
      "source": [
        "## **2. Criação do DataFrame final com o ajuste**"
      ],
      "metadata": {
        "id": "qPFU6O-P2-cH"
      }
    },
    {
      "cell_type": "code",
      "source": [
        "df_ajustado = pd.concat([df_final, df_litoral_norte], axis=0)\n",
        "df_ajustado.to_excel('df_ajustado.xlsx')"
      ],
      "metadata": {
        "id": "JRqSDBaPbhkQ"
      },
      "execution_count": 23,
      "outputs": []
    },
    {
      "cell_type": "code",
      "source": [
        "df_ajustado"
      ],
      "metadata": {
        "colab": {
          "base_uri": "https://localhost:8080/",
          "height": 424
        },
        "id": "ZHcVBLrrcqe_",
        "outputId": "40d6fd21-967a-40e9-9907-a8af7da85ff8"
      },
      "execution_count": 24,
      "outputs": [
        {
          "output_type": "execute_result",
          "data": {
            "text/plain": [
              "tipo         cidade data_completa  Admissões  Desligamentos  Estoque  Saldos\n",
              "0     Caraguatatuba    01/01/2020      728.0          961.0  21587.0  -233.0\n",
              "1     Caraguatatuba    01/01/2021      782.0         1091.0  21272.0  -309.0\n",
              "2     Caraguatatuba    01/01/2022      954.0         1132.0  22993.0  -178.0\n",
              "3     Caraguatatuba    01/02/2020      714.0          978.0  21323.0  -264.0\n",
              "4     Caraguatatuba    01/02/2021      825.0          932.0  21165.0  -107.0\n",
              "..              ...           ...        ...            ...      ...     ...\n",
              "88    Litoral Norte    01/10/2021     1068.0          657.0  17631.0   411.0\n",
              "89    Litoral Norte    01/11/2020     1145.0          547.0  17106.0   598.0\n",
              "90    Litoral Norte    01/11/2021     1144.0          699.0  18076.0   445.0\n",
              "91    Litoral Norte    01/12/2020     1346.0          763.0  17689.0   583.0\n",
              "92    Litoral Norte    01/12/2021     1391.0          930.0  18537.0   461.0\n",
              "\n",
              "[217 rows x 6 columns]"
            ],
            "text/html": [
              "\n",
              "  <div id=\"df-d977328a-c68b-4546-9509-502d3fe61786\">\n",
              "    <div class=\"colab-df-container\">\n",
              "      <div>\n",
              "<style scoped>\n",
              "    .dataframe tbody tr th:only-of-type {\n",
              "        vertical-align: middle;\n",
              "    }\n",
              "\n",
              "    .dataframe tbody tr th {\n",
              "        vertical-align: top;\n",
              "    }\n",
              "\n",
              "    .dataframe thead th {\n",
              "        text-align: right;\n",
              "    }\n",
              "</style>\n",
              "<table border=\"1\" class=\"dataframe\">\n",
              "  <thead>\n",
              "    <tr style=\"text-align: right;\">\n",
              "      <th>tipo</th>\n",
              "      <th>cidade</th>\n",
              "      <th>data_completa</th>\n",
              "      <th>Admissões</th>\n",
              "      <th>Desligamentos</th>\n",
              "      <th>Estoque</th>\n",
              "      <th>Saldos</th>\n",
              "    </tr>\n",
              "  </thead>\n",
              "  <tbody>\n",
              "    <tr>\n",
              "      <th>0</th>\n",
              "      <td>Caraguatatuba</td>\n",
              "      <td>01/01/2020</td>\n",
              "      <td>728.0</td>\n",
              "      <td>961.0</td>\n",
              "      <td>21587.0</td>\n",
              "      <td>-233.0</td>\n",
              "    </tr>\n",
              "    <tr>\n",
              "      <th>1</th>\n",
              "      <td>Caraguatatuba</td>\n",
              "      <td>01/01/2021</td>\n",
              "      <td>782.0</td>\n",
              "      <td>1091.0</td>\n",
              "      <td>21272.0</td>\n",
              "      <td>-309.0</td>\n",
              "    </tr>\n",
              "    <tr>\n",
              "      <th>2</th>\n",
              "      <td>Caraguatatuba</td>\n",
              "      <td>01/01/2022</td>\n",
              "      <td>954.0</td>\n",
              "      <td>1132.0</td>\n",
              "      <td>22993.0</td>\n",
              "      <td>-178.0</td>\n",
              "    </tr>\n",
              "    <tr>\n",
              "      <th>3</th>\n",
              "      <td>Caraguatatuba</td>\n",
              "      <td>01/02/2020</td>\n",
              "      <td>714.0</td>\n",
              "      <td>978.0</td>\n",
              "      <td>21323.0</td>\n",
              "      <td>-264.0</td>\n",
              "    </tr>\n",
              "    <tr>\n",
              "      <th>4</th>\n",
              "      <td>Caraguatatuba</td>\n",
              "      <td>01/02/2021</td>\n",
              "      <td>825.0</td>\n",
              "      <td>932.0</td>\n",
              "      <td>21165.0</td>\n",
              "      <td>-107.0</td>\n",
              "    </tr>\n",
              "    <tr>\n",
              "      <th>...</th>\n",
              "      <td>...</td>\n",
              "      <td>...</td>\n",
              "      <td>...</td>\n",
              "      <td>...</td>\n",
              "      <td>...</td>\n",
              "      <td>...</td>\n",
              "    </tr>\n",
              "    <tr>\n",
              "      <th>88</th>\n",
              "      <td>Litoral Norte</td>\n",
              "      <td>01/10/2021</td>\n",
              "      <td>1068.0</td>\n",
              "      <td>657.0</td>\n",
              "      <td>17631.0</td>\n",
              "      <td>411.0</td>\n",
              "    </tr>\n",
              "    <tr>\n",
              "      <th>89</th>\n",
              "      <td>Litoral Norte</td>\n",
              "      <td>01/11/2020</td>\n",
              "      <td>1145.0</td>\n",
              "      <td>547.0</td>\n",
              "      <td>17106.0</td>\n",
              "      <td>598.0</td>\n",
              "    </tr>\n",
              "    <tr>\n",
              "      <th>90</th>\n",
              "      <td>Litoral Norte</td>\n",
              "      <td>01/11/2021</td>\n",
              "      <td>1144.0</td>\n",
              "      <td>699.0</td>\n",
              "      <td>18076.0</td>\n",
              "      <td>445.0</td>\n",
              "    </tr>\n",
              "    <tr>\n",
              "      <th>91</th>\n",
              "      <td>Litoral Norte</td>\n",
              "      <td>01/12/2020</td>\n",
              "      <td>1346.0</td>\n",
              "      <td>763.0</td>\n",
              "      <td>17689.0</td>\n",
              "      <td>583.0</td>\n",
              "    </tr>\n",
              "    <tr>\n",
              "      <th>92</th>\n",
              "      <td>Litoral Norte</td>\n",
              "      <td>01/12/2021</td>\n",
              "      <td>1391.0</td>\n",
              "      <td>930.0</td>\n",
              "      <td>18537.0</td>\n",
              "      <td>461.0</td>\n",
              "    </tr>\n",
              "  </tbody>\n",
              "</table>\n",
              "<p>217 rows × 6 columns</p>\n",
              "</div>\n",
              "      <button class=\"colab-df-convert\" onclick=\"convertToInteractive('df-d977328a-c68b-4546-9509-502d3fe61786')\"\n",
              "              title=\"Convert this dataframe to an interactive table.\"\n",
              "              style=\"display:none;\">\n",
              "        \n",
              "  <svg xmlns=\"http://www.w3.org/2000/svg\" height=\"24px\"viewBox=\"0 0 24 24\"\n",
              "       width=\"24px\">\n",
              "    <path d=\"M0 0h24v24H0V0z\" fill=\"none\"/>\n",
              "    <path d=\"M18.56 5.44l.94 2.06.94-2.06 2.06-.94-2.06-.94-.94-2.06-.94 2.06-2.06.94zm-11 1L8.5 8.5l.94-2.06 2.06-.94-2.06-.94L8.5 2.5l-.94 2.06-2.06.94zm10 10l.94 2.06.94-2.06 2.06-.94-2.06-.94-.94-2.06-.94 2.06-2.06.94z\"/><path d=\"M17.41 7.96l-1.37-1.37c-.4-.4-.92-.59-1.43-.59-.52 0-1.04.2-1.43.59L10.3 9.45l-7.72 7.72c-.78.78-.78 2.05 0 2.83L4 21.41c.39.39.9.59 1.41.59.51 0 1.02-.2 1.41-.59l7.78-7.78 2.81-2.81c.8-.78.8-2.07 0-2.86zM5.41 20L4 18.59l7.72-7.72 1.47 1.35L5.41 20z\"/>\n",
              "  </svg>\n",
              "      </button>\n",
              "      \n",
              "  <style>\n",
              "    .colab-df-container {\n",
              "      display:flex;\n",
              "      flex-wrap:wrap;\n",
              "      gap: 12px;\n",
              "    }\n",
              "\n",
              "    .colab-df-convert {\n",
              "      background-color: #E8F0FE;\n",
              "      border: none;\n",
              "      border-radius: 50%;\n",
              "      cursor: pointer;\n",
              "      display: none;\n",
              "      fill: #1967D2;\n",
              "      height: 32px;\n",
              "      padding: 0 0 0 0;\n",
              "      width: 32px;\n",
              "    }\n",
              "\n",
              "    .colab-df-convert:hover {\n",
              "      background-color: #E2EBFA;\n",
              "      box-shadow: 0px 1px 2px rgba(60, 64, 67, 0.3), 0px 1px 3px 1px rgba(60, 64, 67, 0.15);\n",
              "      fill: #174EA6;\n",
              "    }\n",
              "\n",
              "    [theme=dark] .colab-df-convert {\n",
              "      background-color: #3B4455;\n",
              "      fill: #D2E3FC;\n",
              "    }\n",
              "\n",
              "    [theme=dark] .colab-df-convert:hover {\n",
              "      background-color: #434B5C;\n",
              "      box-shadow: 0px 1px 3px 1px rgba(0, 0, 0, 0.15);\n",
              "      filter: drop-shadow(0px 1px 2px rgba(0, 0, 0, 0.3));\n",
              "      fill: #FFFFFF;\n",
              "    }\n",
              "  </style>\n",
              "\n",
              "      <script>\n",
              "        const buttonEl =\n",
              "          document.querySelector('#df-d977328a-c68b-4546-9509-502d3fe61786 button.colab-df-convert');\n",
              "        buttonEl.style.display =\n",
              "          google.colab.kernel.accessAllowed ? 'block' : 'none';\n",
              "\n",
              "        async function convertToInteractive(key) {\n",
              "          const element = document.querySelector('#df-d977328a-c68b-4546-9509-502d3fe61786');\n",
              "          const dataTable =\n",
              "            await google.colab.kernel.invokeFunction('convertToInteractive',\n",
              "                                                     [key], {});\n",
              "          if (!dataTable) return;\n",
              "\n",
              "          const docLinkHtml = 'Like what you see? Visit the ' +\n",
              "            '<a target=\"_blank\" href=https://colab.research.google.com/notebooks/data_table.ipynb>data table notebook</a>'\n",
              "            + ' to learn more about interactive tables.';\n",
              "          element.innerHTML = '';\n",
              "          dataTable['output_type'] = 'display_data';\n",
              "          await google.colab.output.renderOutput(dataTable, element);\n",
              "          const docLink = document.createElement('div');\n",
              "          docLink.innerHTML = docLinkHtml;\n",
              "          element.appendChild(docLink);\n",
              "        }\n",
              "      </script>\n",
              "    </div>\n",
              "  </div>\n",
              "  "
            ]
          },
          "metadata": {},
          "execution_count": 24
        }
      ]
    }
  ]
}