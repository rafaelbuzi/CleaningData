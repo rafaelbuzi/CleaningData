{
 "cells": [
  {
   "cell_type": "markdown",
   "id": "6a92a8b0",
   "metadata": {},
   "source": [
    "# Tratamento de Dados do Censo Escolar "
   ]
  },
  {
   "cell_type": "markdown",
   "id": "605d26d4",
   "metadata": {},
   "source": [
    "O Censo Escolar é o principal instrumento de coleta de informações da educação básica e a mais importante pesquisa estatística educacional brasileira. É coordenado pelo Inep e realizado em regime de colaboração entre as secretarias estaduais e municipais de educação e com a participação de todas as escolas públicas e privadas do país."
   ]
  },
  {
   "cell_type": "markdown",
   "id": "e2f01deb",
   "metadata": {},
   "source": [
    "## Obtenção dos dados\n",
    "\n",
    "Os dados podem ser obtidos através do seguinte link:\n",
    "\n",
    "https://www.gov.br/inep/pt-br/areas-de-atuacao/pesquisas-estatisticas-e-indicadores/censo-escolar/resultados/2022\n",
    "\n",
    "No link acima, deve-se selecionar os _Microdados da Educação Básica 2022_.\n",
    "\n",
    "Para obter resultados de anos anteriores, basta alterar a última parte do link para o ano desejada."
   ]
  },
  {
   "cell_type": "markdown",
   "id": "b5d775ae",
   "metadata": {},
   "source": [
    "**Importando as bibliotecas disponíveis**\n",
    "\n",
    "Neste caso, utilizaremos apenas a biblioteca _pandas_."
   ]
  },
  {
   "cell_type": "code",
   "execution_count": 1,
   "id": "b60f195f",
   "metadata": {},
   "outputs": [],
   "source": [
    "import pandas as pd\n",
    "pd.set_option('display.max_columns', None)"
   ]
  },
  {
   "cell_type": "markdown",
   "id": "594bde69",
   "metadata": {},
   "source": [
    "**Carregamento dos dados**"
   ]
  },
  {
   "cell_type": "code",
   "execution_count": 2,
   "id": "afccd71f",
   "metadata": {},
   "outputs": [],
   "source": [
    "File2016 = 'microdados_ed_basica_2016.csv'\n",
    "File2017 = 'microdados_ed_basica_2017.csv'\n",
    "File2018 = 'microdados_ed_basica_2018.csv'\n",
    "File2019 = 'microdados_ed_basica_2019.csv'\n",
    "File2020 = 'microdados_ed_basica_2020.csv'\n",
    "File2021 = 'microdados_ed_basica_2021.csv'\n",
    "File2022 = 'microdados_ed_basica_2022.csv'"
   ]
  },
  {
   "cell_type": "markdown",
   "id": "fc4b6e99",
   "metadata": {},
   "source": [
    "**Função para tratamento dos dados**\n",
    "\n",
    "Na função abaixo, iremos realizar as seguintes operações:\n",
    "\n",
    "1. _Unpivot_ dos dados, através da função `pd.melt`;\n",
    "2. Carregamento dos dados, através da função `pd.read_csv`;\n",
    "3. Filtro do município desejado e somente de escolas públicas - `.query('CO_MUNICIPIO==3550704 and TP_DEPENDENCIA==3')`\n",
    "4. Resetar o index da _DataFrame_ após o filtro: `.reset_index()`;\n",
    "5. Filtrar somente a partir da 14ª coluna do carregamento original (antes do _melt_): `iloc[:,:14]`\n",
    "6. Remover colunas que não serão utilizadas na análise: `.drop(columns=['CO_ENTIDADE', 'TP_DEPENDENCIA'])`\n",
    "7. Renomear colunas que surgiram (_variable, value_) através do nosso _melt_: `.rename(columns={'variable': 'DESCRIÇÃO', 'value': 'VALOR'})`\n",
    "8. Por fim, o `return`do nosso _DataFrame_\n",
    " "
   ]
  },
  {
   "cell_type": "code",
   "execution_count": 3,
   "id": "52d575ab",
   "metadata": {},
   "outputs": [],
   "source": [
    "def Clean_DataFrame(file):\n",
    "    DataFrame = pd.melt(pd.read_csv(file, sep=';', encoding='latin1').query('CO_MUNICIPIO==3550704 and TP_DEPENDENCIA==3').reset_index().iloc[:, 14:].drop(\n",
    "    columns=['CO_ENTIDADE', 'TP_DEPENDENCIA']), id_vars='NO_ENTIDADE').fillna(0).rename(\n",
    "    columns={'variable': 'DESCRIÇÃO', 'value': 'VALOR'})\n",
    "    return DataFrame"
   ]
  },
  {
   "cell_type": "markdown",
   "id": "af3453a0",
   "metadata": {},
   "source": [
    "**Concatenando os DataFrames**"
   ]
  },
  {
   "cell_type": "code",
   "execution_count": 4,
   "id": "cd2e01f4",
   "metadata": {
    "scrolled": true
   },
   "outputs": [
    {
     "name": "stderr",
     "output_type": "stream",
     "text": [
      "C:\\Users\\rafael.buzi\\Anaconda3\\lib\\site-packages\\IPython\\core\\interactiveshell.py:3364: DtypeWarning: Columns (27) have mixed types.Specify dtype option on import or set low_memory=False.\n",
      "  if (await self.run_code(code, result,  async_=asy)):\n"
     ]
    }
   ],
   "source": [
    "Ano = 2016\n",
    "DataFrames = []\n",
    "for File in [File2016, File2017, File2018, File2019, File2020, File2021, File2022]:  \n",
    "    df = Clean_DataFrame(File)\n",
    "    df['Ano'] = Ano\n",
    "    DataFrames.append(df)\n",
    "    Ano += 1\n",
    "    \n",
    "Final_DataFrame = pd.concat(DataFrames)"
   ]
  },
  {
   "cell_type": "markdown",
   "id": "710a3d31",
   "metadata": {},
   "source": [
    "**Obtendo os dados do Dicionário de Dados**\n",
    "\n",
    "O dicionário de dados nos permitirá a análise somente de itens que tenham sido avaliados em 2022, e que sejam numéricos, conforme abaixo:\n",
    "\n",
    "`Dicionario.query(\"Avaliação_2022=='s' and Tipo=='Num'\", engine='python')`\n",
    "\n",
    "Adicionalmente, o dicionário traz a descrição das siglas, bastante útil para a nossa avaliação."
   ]
  },
  {
   "cell_type": "code",
   "execution_count": 5,
   "id": "a4def6a8",
   "metadata": {},
   "outputs": [],
   "source": [
    "File = 'dicionário_dados_educação_básica.xlsx'\n",
    "Cols = 'Unnamed: 2','Unnamed: 3', 'Alteração de nomenclatura', 'Unnamed: 21'\n",
    "Dicionario = pd.read_excel(File, usecols=Cols)\n",
    "Dicionario.columns = ['Sigla', 'Descrição', 'Tipo', 'Avaliação_2022']\n",
    "Dicionario = Dicionario.query(\"Avaliação_2022=='s' and Tipo=='Num'\", \n",
    "                              engine='python').drop('Avaliação_2022', axis=1).reset_index(drop=True)"
   ]
  },
  {
   "cell_type": "markdown",
   "id": "120b735e",
   "metadata": {},
   "source": [
    "**Merge**\n",
    "\n",
    "Aqui, faremos um _inner join_ entre os dados dos censos de 2016 a 2022 `Final_DataFrame`e o nosso `Dicionario`."
   ]
  },
  {
   "cell_type": "code",
   "execution_count": 6,
   "id": "2216fe74",
   "metadata": {
    "scrolled": true
   },
   "outputs": [],
   "source": [
    "MicroDados = pd.merge(Final_DataFrame, Dicionario, left_on='DESCRIÇÃO', right_on='Sigla', how='inner').fillna(0).drop(columns=['DESCRIÇÃO', 'Tipo'])\n",
    "\n",
    "MicroDados['ValorAjustado'] = pd.to_numeric(MicroDados['VALOR'], errors='coerce')"
   ]
  },
  {
   "cell_type": "markdown",
   "id": "087548ea",
   "metadata": {},
   "source": [
    "Uma vez que criamos uma coluna chamada `ValorAjustado`, com o parâmetro de `errors=coerce`, os valores que não foram convertidos devidamente em numéricos permancerão vazios. Desta forma, com o código abaixo, poderemos obter as siglas que não devem permanecer na nossa análise:"
   ]
  },
  {
   "cell_type": "code",
   "execution_count": 7,
   "id": "3e4918f5",
   "metadata": {
    "scrolled": false
   },
   "outputs": [
    {
     "data": {
      "text/plain": [
       "NU_TELEFONE    28\n",
       "NU_DDD         28\n",
       "Name: Sigla, dtype: int64"
      ]
     },
     "execution_count": 7,
     "metadata": {},
     "output_type": "execute_result"
    }
   ],
   "source": [
    "MicroDados[MicroDados['ValorAjustado'].isnull()]['Sigla'].value_counts()"
   ]
  },
  {
   "cell_type": "code",
   "execution_count": 13,
   "id": "f2c8fa8d",
   "metadata": {
    "scrolled": true
   },
   "outputs": [
    {
     "data": {
      "text/plain": [
       ".    56\n",
       "Name: VALOR, dtype: int64"
      ]
     },
     "execution_count": 13,
     "metadata": {},
     "output_type": "execute_result"
    }
   ],
   "source": [
    "MicroDados[MicroDados['ValorAjustado'].isnull()]['VALOR'].value_counts()"
   ]
  },
  {
   "cell_type": "markdown",
   "id": "848ac8f6",
   "metadata": {},
   "source": [
    "Nos 3 blocos de código acima, podemos ver que os problemas se dão no preenchimento das siglas `NU_TELEFONE` e `NU_DDD`, que possuem `.`como valor.\n",
    "\n",
    "No bloco de código abaixo, iremos remover tais siglas, uma vez que são irrelevantes na nossa análise>"
   ]
  },
  {
   "cell_type": "code",
   "execution_count": 14,
   "id": "454ad22e",
   "metadata": {},
   "outputs": [],
   "source": [
    "MicroDados = MicroDados.query(\"Sigla!='NU_TELEFONE' and Sigla!='NU_DDD'\", \n",
    "                              engine='python').drop('VALOR', axis=1)"
   ]
  },
  {
   "cell_type": "markdown",
   "id": "98f2b0ef",
   "metadata": {},
   "source": [
    "Por fim, iremos agrupar os dados, a fim de termos o resultado do município como um todo"
   ]
  },
  {
   "cell_type": "code",
   "execution_count": 19,
   "id": "14367c3f",
   "metadata": {},
   "outputs": [],
   "source": [
    "Group = MicroDados.groupby(['Ano', 'Sigla', 'Descrição'])['ValorAjustado'].sum().reset_index()\n",
    "Group.Ano = pd.to_datetime(Group.Ano, format='%Y')"
   ]
  },
  {
   "cell_type": "markdown",
   "id": "f79bad88",
   "metadata": {},
   "source": [
    "Visão final dos dados"
   ]
  },
  {
   "cell_type": "code",
   "execution_count": 23,
   "id": "5eca3ee4",
   "metadata": {},
   "outputs": [
    {
     "data": {
      "text/html": [
       "<div>\n",
       "<style scoped>\n",
       "    .dataframe tbody tr th:only-of-type {\n",
       "        vertical-align: middle;\n",
       "    }\n",
       "\n",
       "    .dataframe tbody tr th {\n",
       "        vertical-align: top;\n",
       "    }\n",
       "\n",
       "    .dataframe thead th {\n",
       "        text-align: right;\n",
       "    }\n",
       "</style>\n",
       "<table border=\"1\" class=\"dataframe\">\n",
       "  <thead>\n",
       "    <tr style=\"text-align: right;\">\n",
       "      <th></th>\n",
       "      <th>Ano</th>\n",
       "      <th>Sigla</th>\n",
       "      <th>Descrição</th>\n",
       "      <th>ValorAjustado</th>\n",
       "    </tr>\n",
       "  </thead>\n",
       "  <tbody>\n",
       "    <tr>\n",
       "      <th>0</th>\n",
       "      <td>2016-01-01</td>\n",
       "      <td>CO_ESCOLA_SEDE_VINCULADA</td>\n",
       "      <td>Código da escola sede</td>\n",
       "      <td>0.0</td>\n",
       "    </tr>\n",
       "    <tr>\n",
       "      <th>1</th>\n",
       "      <td>2016-01-01</td>\n",
       "      <td>CO_IES_OFERTANTE</td>\n",
       "      <td>Código da IES vinculada à escola</td>\n",
       "      <td>0.0</td>\n",
       "    </tr>\n",
       "    <tr>\n",
       "      <th>2</th>\n",
       "      <td>2016-01-01</td>\n",
       "      <td>CO_LINGUA_INDIGENA_1</td>\n",
       "      <td>Educação Indígena - Língua em que o ensino é m...</td>\n",
       "      <td>0.0</td>\n",
       "    </tr>\n",
       "    <tr>\n",
       "      <th>3</th>\n",
       "      <td>2016-01-01</td>\n",
       "      <td>CO_LINGUA_INDIGENA_2</td>\n",
       "      <td>Educação Indígena - Língua em que o ensino é m...</td>\n",
       "      <td>0.0</td>\n",
       "    </tr>\n",
       "    <tr>\n",
       "      <th>4</th>\n",
       "      <td>2016-01-01</td>\n",
       "      <td>CO_LINGUA_INDIGENA_3</td>\n",
       "      <td>Educação Indígena - Língua em que o ensino é m...</td>\n",
       "      <td>0.0</td>\n",
       "    </tr>\n",
       "  </tbody>\n",
       "</table>\n",
       "</div>"
      ],
      "text/plain": [
       "         Ano                     Sigla  \\\n",
       "0 2016-01-01  CO_ESCOLA_SEDE_VINCULADA   \n",
       "1 2016-01-01          CO_IES_OFERTANTE   \n",
       "2 2016-01-01      CO_LINGUA_INDIGENA_1   \n",
       "3 2016-01-01      CO_LINGUA_INDIGENA_2   \n",
       "4 2016-01-01      CO_LINGUA_INDIGENA_3   \n",
       "\n",
       "                                           Descrição  ValorAjustado  \n",
       "0                              Código da escola sede            0.0  \n",
       "1                   Código da IES vinculada à escola            0.0  \n",
       "2  Educação Indígena - Língua em que o ensino é m...            0.0  \n",
       "3  Educação Indígena - Língua em que o ensino é m...            0.0  \n",
       "4  Educação Indígena - Língua em que o ensino é m...            0.0  "
      ]
     },
     "execution_count": 23,
     "metadata": {},
     "output_type": "execute_result"
    }
   ],
   "source": [
    "Group.head(5)"
   ]
  }
 ],
 "metadata": {
  "kernelspec": {
   "display_name": "Python 3 (ipykernel)",
   "language": "python",
   "name": "python3"
  },
  "language_info": {
   "codemirror_mode": {
    "name": "ipython",
    "version": 3
   },
   "file_extension": ".py",
   "mimetype": "text/x-python",
   "name": "python",
   "nbconvert_exporter": "python",
   "pygments_lexer": "ipython3",
   "version": "3.9.7"
  }
 },
 "nbformat": 4,
 "nbformat_minor": 5
}
